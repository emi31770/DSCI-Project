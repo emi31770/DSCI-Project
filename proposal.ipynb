{
 "cells": [
  {
   "cell_type": "markdown",
   "metadata": {},
   "source": [
    "# Run before"
   ]
  },
  {
   "cell_type": "code",
   "execution_count": 27,
   "metadata": {},
   "outputs": [],
   "source": [
    "library(tidyverse)\n",
    "library(repr)\n",
    "library(tidymodels)"
   ]
  },
  {
   "cell_type": "markdown",
   "metadata": {},
   "source": [
    "# Download files"
   ]
  },
  {
   "cell_type": "code",
   "execution_count": 56,
   "metadata": {},
   "outputs": [
    {
     "name": "stderr",
     "output_type": "stream",
     "text": [
      "Parsed with column specification:\n",
      "cols(\n",
      "  .default = col_character(),\n",
      "  `Zip Code` = \u001b[32mcol_double()\u001b[39m,\n",
      "  Latitude = \u001b[32mcol_double()\u001b[39m,\n",
      "  Longitude = \u001b[32mcol_double()\u001b[39m,\n",
      "  `Start Time` = \u001b[34mcol_time(format = \"\")\u001b[39m,\n",
      "  `End Time` = \u001b[34mcol_time(format = \"\")\u001b[39m,\n",
      "  `Student Enrollment` = \u001b[32mcol_double()\u001b[39m,\n",
      "  `Average Score (SAT Math)` = \u001b[32mcol_double()\u001b[39m,\n",
      "  `Average Score (SAT Reading)` = \u001b[32mcol_double()\u001b[39m,\n",
      "  `Average Score (SAT Writing)` = \u001b[32mcol_double()\u001b[39m\n",
      ")\n",
      "\n",
      "See spec(...) for full column specifications.\n",
      "\n",
      "Parsed with column specification:\n",
      "cols(\n",
      "  state = \u001b[31mcol_character()\u001b[39m,\n",
      "  zipcode = \u001b[32mcol_double()\u001b[39m,\n",
      "  total_pop = \u001b[32mcol_double()\u001b[39m,\n",
      "  total_income = \u001b[32mcol_double()\u001b[39m,\n",
      "  country = \u001b[31mcol_character()\u001b[39m,\n",
      "  avg_income = \u001b[32mcol_double()\u001b[39m\n",
      ")\n",
      "\n"
     ]
    }
   ],
   "source": [
    "sat_scores = read_csv(\"https://raw.githubusercontent.com/emi31770/proposal/main/datesets/sat_scores.csv\")\n",
    "zip_income = read_csv(\"https://raw.githubusercontent.com/emi31770/proposal/main/datesets/zipcodes_income.csv\")\n",
    "names(sat_scores) = make.names(names(sat_scores))\n",
    "names(zip_income) = make.names(names(zip_income))\n",
    "write_csv(sat_scores, \"sat.csv\")\n",
    "write_csv(zip_income, \"zip.csv\")"
   ]
  },
  {
   "cell_type": "code",
   "execution_count": 81,
   "metadata": {},
   "outputs": [
    {
     "name": "stderr",
     "output_type": "stream",
     "text": [
      "Parsed with column specification:\n",
      "cols(\n",
      "  state = \u001b[31mcol_character()\u001b[39m,\n",
      "  zipcode = \u001b[32mcol_double()\u001b[39m,\n",
      "  total_pop = \u001b[32mcol_double()\u001b[39m,\n",
      "  total_income = \u001b[32mcol_double()\u001b[39m,\n",
      "  country = \u001b[31mcol_character()\u001b[39m,\n",
      "  avg_income = \u001b[32mcol_double()\u001b[39m\n",
      ")\n",
      "\n",
      "Parsed with column specification:\n",
      "cols(\n",
      "  .default = col_character(),\n",
      "  Zip.Code = \u001b[32mcol_double()\u001b[39m,\n",
      "  Latitude = \u001b[32mcol_double()\u001b[39m,\n",
      "  Longitude = \u001b[32mcol_double()\u001b[39m,\n",
      "  Start.Time = \u001b[34mcol_time(format = \"\")\u001b[39m,\n",
      "  End.Time = \u001b[34mcol_time(format = \"\")\u001b[39m,\n",
      "  Student.Enrollment = \u001b[32mcol_double()\u001b[39m,\n",
      "  Average.Score..SAT.Math. = \u001b[32mcol_double()\u001b[39m,\n",
      "  Average.Score..SAT.Reading. = \u001b[32mcol_double()\u001b[39m,\n",
      "  Average.Score..SAT.Writing. = \u001b[32mcol_double()\u001b[39m\n",
      ")\n",
      "\n",
      "See spec(...) for full column specifications.\n",
      "\n"
     ]
    },
    {
     "data": {
      "text/html": [
       "<table>\n",
       "<caption>A tibble: 5 × 6</caption>\n",
       "<thead>\n",
       "\t<tr><th scope=col>Zip.Code</th><th scope=col>Student.Enrollment</th><th scope=col>Averages.Sum</th><th scope=col>Average.Score..SAT.Math.</th><th scope=col>Average.Score..SAT.Reading.</th><th scope=col>Average.Score..SAT.Writing.</th></tr>\n",
       "\t<tr><th scope=col>&lt;dbl&gt;</th><th scope=col>&lt;dbl&gt;</th><th scope=col>&lt;dbl&gt;</th><th scope=col>&lt;dbl&gt;</th><th scope=col>&lt;dbl&gt;</th><th scope=col>&lt;dbl&gt;</th></tr>\n",
       "</thead>\n",
       "<tbody>\n",
       "\t<tr><td>10002</td><td>504.7273</td><td>1358.909</td><td>472.9091</td><td>448.5455</td><td>437.4545</td></tr>\n",
       "\t<tr><td>10003</td><td>693.2000</td><td>1323.600</td><td>449.6000</td><td>443.4000</td><td>430.6000</td></tr>\n",
       "\t<tr><td>10004</td><td>519.2500</td><td>1380.250</td><td>463.0000</td><td>462.0000</td><td>455.2500</td></tr>\n",
       "\t<tr><td>10006</td><td>747.5000</td><td>1268.000</td><td>429.5000</td><td>419.0000</td><td>419.5000</td></tr>\n",
       "\t<tr><td>10009</td><td>666.0000</td><td>1327.000</td><td>454.0000</td><td>428.0000</td><td>445.0000</td></tr>\n",
       "</tbody>\n",
       "</table>\n"
      ],
      "text/latex": [
       "A tibble: 5 × 6\n",
       "\\begin{tabular}{llllll}\n",
       " Zip.Code & Student.Enrollment & Averages.Sum & Average.Score..SAT.Math. & Average.Score..SAT.Reading. & Average.Score..SAT.Writing.\\\\\n",
       " <dbl> & <dbl> & <dbl> & <dbl> & <dbl> & <dbl>\\\\\n",
       "\\hline\n",
       "\t 10002 & 504.7273 & 1358.909 & 472.9091 & 448.5455 & 437.4545\\\\\n",
       "\t 10003 & 693.2000 & 1323.600 & 449.6000 & 443.4000 & 430.6000\\\\\n",
       "\t 10004 & 519.2500 & 1380.250 & 463.0000 & 462.0000 & 455.2500\\\\\n",
       "\t 10006 & 747.5000 & 1268.000 & 429.5000 & 419.0000 & 419.5000\\\\\n",
       "\t 10009 & 666.0000 & 1327.000 & 454.0000 & 428.0000 & 445.0000\\\\\n",
       "\\end{tabular}\n"
      ],
      "text/markdown": [
       "\n",
       "A tibble: 5 × 6\n",
       "\n",
       "| Zip.Code &lt;dbl&gt; | Student.Enrollment &lt;dbl&gt; | Averages.Sum &lt;dbl&gt; | Average.Score..SAT.Math. &lt;dbl&gt; | Average.Score..SAT.Reading. &lt;dbl&gt; | Average.Score..SAT.Writing. &lt;dbl&gt; |\n",
       "|---|---|---|---|---|---|\n",
       "| 10002 | 504.7273 | 1358.909 | 472.9091 | 448.5455 | 437.4545 |\n",
       "| 10003 | 693.2000 | 1323.600 | 449.6000 | 443.4000 | 430.6000 |\n",
       "| 10004 | 519.2500 | 1380.250 | 463.0000 | 462.0000 | 455.2500 |\n",
       "| 10006 | 747.5000 | 1268.000 | 429.5000 | 419.0000 | 419.5000 |\n",
       "| 10009 | 666.0000 | 1327.000 | 454.0000 | 428.0000 | 445.0000 |\n",
       "\n"
      ],
      "text/plain": [
       "  Zip.Code Student.Enrollment Averages.Sum Average.Score..SAT.Math.\n",
       "1 10002    504.7273           1358.909     472.9091                \n",
       "2 10003    693.2000           1323.600     449.6000                \n",
       "3 10004    519.2500           1380.250     463.0000                \n",
       "4 10006    747.5000           1268.000     429.5000                \n",
       "5 10009    666.0000           1327.000     454.0000                \n",
       "  Average.Score..SAT.Reading. Average.Score..SAT.Writing.\n",
       "1 448.5455                    437.4545                   \n",
       "2 443.4000                    430.6000                   \n",
       "3 462.0000                    455.2500                   \n",
       "4 419.0000                    419.5000                   \n",
       "5 428.0000                    445.0000                   "
      ]
     },
     "metadata": {},
     "output_type": "display_data"
    },
    {
     "data": {
      "text/html": [
       "<table>\n",
       "<caption>A tibble: 5 × 4</caption>\n",
       "<thead>\n",
       "\t<tr><th scope=col>zipcode</th><th scope=col>total_pop</th><th scope=col>total_income</th><th scope=col>avg_income</th></tr>\n",
       "\t<tr><th scope=col>&lt;dbl&gt;</th><th scope=col>&lt;dbl&gt;</th><th scope=col>&lt;dbl&gt;</th><th scope=col>&lt;dbl&gt;</th></tr>\n",
       "</thead>\n",
       "<tbody>\n",
       "\t<tr><td>    0</td><td>9632130</td><td>887473952</td><td> 92136.83</td></tr>\n",
       "\t<tr><td>10001</td><td>  16150</td><td>  2906435</td><td>179965.02</td></tr>\n",
       "\t<tr><td>10002</td><td>  42400</td><td>  2718913</td><td> 64125.31</td></tr>\n",
       "\t<tr><td>10003</td><td>  29270</td><td>  8191737</td><td>279868.02</td></tr>\n",
       "\t<tr><td>10004</td><td>   2470</td><td>   944925</td><td>382560.73</td></tr>\n",
       "</tbody>\n",
       "</table>\n"
      ],
      "text/latex": [
       "A tibble: 5 × 4\n",
       "\\begin{tabular}{llll}\n",
       " zipcode & total\\_pop & total\\_income & avg\\_income\\\\\n",
       " <dbl> & <dbl> & <dbl> & <dbl>\\\\\n",
       "\\hline\n",
       "\t     0 & 9632130 & 887473952 &  92136.83\\\\\n",
       "\t 10001 &   16150 &   2906435 & 179965.02\\\\\n",
       "\t 10002 &   42400 &   2718913 &  64125.31\\\\\n",
       "\t 10003 &   29270 &   8191737 & 279868.02\\\\\n",
       "\t 10004 &    2470 &    944925 & 382560.73\\\\\n",
       "\\end{tabular}\n"
      ],
      "text/markdown": [
       "\n",
       "A tibble: 5 × 4\n",
       "\n",
       "| zipcode &lt;dbl&gt; | total_pop &lt;dbl&gt; | total_income &lt;dbl&gt; | avg_income &lt;dbl&gt; |\n",
       "|---|---|---|---|\n",
       "|     0 | 9632130 | 887473952 |  92136.83 |\n",
       "| 10001 |   16150 |   2906435 | 179965.02 |\n",
       "| 10002 |   42400 |   2718913 |  64125.31 |\n",
       "| 10003 |   29270 |   8191737 | 279868.02 |\n",
       "| 10004 |    2470 |    944925 | 382560.73 |\n",
       "\n"
      ],
      "text/plain": [
       "  zipcode total_pop total_income avg_income\n",
       "1     0   9632130   887473952     92136.83 \n",
       "2 10001     16150     2906435    179965.02 \n",
       "3 10002     42400     2718913     64125.31 \n",
       "4 10003     29270     8191737    279868.02 \n",
       "5 10004      2470      944925    382560.73 "
      ]
     },
     "metadata": {},
     "output_type": "display_data"
    }
   ],
   "source": [
    "zip_income = read_csv(\"zip.csv\")\n",
    "sat_scores = read_csv(\"sat.csv\")\n",
    "\n",
    "zip_income = zip_income %>% filter(state==\"NY\", country==\"USA\") %>% select(zipcode, total_pop, total_income, avg_income)\n",
    "\n",
    "sat_scores = sat_scores %>% mutate(Averages.Sum = Average.Score..SAT.Math. + Average.Score..SAT.Reading. + Average.Score..SAT.Writing.) %>%\n",
    "                            select(Zip.Code, Student.Enrollment, Averages.Sum, Average.Score..SAT.Math., Average.Score..SAT.Reading., Average.Score..SAT.Writing.) %>%\n",
    "                            na.omit() %>%\n",
    "                            group_by(Zip.Code) %>%\n",
    "                            summarize_all(\"mean\")\n",
    "\n",
    "head(sat_scores, 5)\n",
    "head(zip_income, 5)"
   ]
  },
  {
   "cell_type": "code",
   "execution_count": null,
   "metadata": {},
   "outputs": [],
   "source": []
  }
 ],
 "metadata": {
  "kernelspec": {
   "display_name": "R",
   "language": "R",
   "name": "ir"
  },
  "language_info": {
   "codemirror_mode": "r",
   "file_extension": ".r",
   "mimetype": "text/x-r-source",
   "name": "R",
   "pygments_lexer": "r",
   "version": "4.0.0"
  }
 },
 "nbformat": 4,
 "nbformat_minor": 4
}
