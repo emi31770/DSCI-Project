{
 "cells": [
  {
   "cell_type": "code",
   "execution_count": 2,
   "metadata": {},
   "outputs": [
    {
     "name": "stderr",
     "output_type": "stream",
     "text": [
      "── \u001b[1mAttaching packages\u001b[22m ─────────────────────────────────────── tidyverse 1.3.0 ──\n",
      "\n",
      "\u001b[32m✔\u001b[39m \u001b[34mggplot2\u001b[39m 3.3.2     \u001b[32m✔\u001b[39m \u001b[34mpurrr  \u001b[39m 0.3.4\n",
      "\u001b[32m✔\u001b[39m \u001b[34mtibble \u001b[39m 3.0.3     \u001b[32m✔\u001b[39m \u001b[34mdplyr  \u001b[39m 1.0.2\n",
      "\u001b[32m✔\u001b[39m \u001b[34mtidyr  \u001b[39m 1.1.2     \u001b[32m✔\u001b[39m \u001b[34mstringr\u001b[39m 1.4.0\n",
      "\u001b[32m✔\u001b[39m \u001b[34mreadr  \u001b[39m 1.3.1     \u001b[32m✔\u001b[39m \u001b[34mforcats\u001b[39m 0.5.0\n",
      "\n",
      "Warning message:\n",
      "“package ‘ggplot2’ was built under R version 4.0.1”\n",
      "Warning message:\n",
      "“package ‘tibble’ was built under R version 4.0.2”\n",
      "Warning message:\n",
      "“package ‘tidyr’ was built under R version 4.0.2”\n",
      "Warning message:\n",
      "“package ‘dplyr’ was built under R version 4.0.2”\n",
      "── \u001b[1mConflicts\u001b[22m ────────────────────────────────────────── tidyverse_conflicts() ──\n",
      "\u001b[31m✖\u001b[39m \u001b[34mdplyr\u001b[39m::\u001b[32mfilter()\u001b[39m masks \u001b[34mstats\u001b[39m::filter()\n",
      "\u001b[31m✖\u001b[39m \u001b[34mdplyr\u001b[39m::\u001b[32mlag()\u001b[39m    masks \u001b[34mstats\u001b[39m::lag()\n",
      "\n",
      "Warning message:\n",
      "“package ‘tidymodels’ was built under R version 4.0.2”\n",
      "── \u001b[1mAttaching packages\u001b[22m ────────────────────────────────────── tidymodels 0.1.1 ──\n",
      "\n",
      "\u001b[32m✔\u001b[39m \u001b[34mbroom    \u001b[39m 0.7.0      \u001b[32m✔\u001b[39m \u001b[34mrecipes  \u001b[39m 0.1.13\n",
      "\u001b[32m✔\u001b[39m \u001b[34mdials    \u001b[39m 0.0.9      \u001b[32m✔\u001b[39m \u001b[34mrsample  \u001b[39m 0.0.7 \n",
      "\u001b[32m✔\u001b[39m \u001b[34minfer    \u001b[39m 0.5.4      \u001b[32m✔\u001b[39m \u001b[34mtune     \u001b[39m 0.1.1 \n",
      "\u001b[32m✔\u001b[39m \u001b[34mmodeldata\u001b[39m 0.0.2      \u001b[32m✔\u001b[39m \u001b[34mworkflows\u001b[39m 0.2.0 \n",
      "\u001b[32m✔\u001b[39m \u001b[34mparsnip  \u001b[39m 0.1.3      \u001b[32m✔\u001b[39m \u001b[34myardstick\u001b[39m 0.0.7 \n",
      "\n",
      "Warning message:\n",
      "“package ‘broom’ was built under R version 4.0.2”\n",
      "Warning message:\n",
      "“package ‘dials’ was built under R version 4.0.2”\n",
      "Warning message:\n",
      "“package ‘infer’ was built under R version 4.0.3”\n",
      "Warning message:\n",
      "“package ‘modeldata’ was built under R version 4.0.1”\n",
      "Warning message:\n",
      "“package ‘parsnip’ was built under R version 4.0.2”\n",
      "Warning message:\n",
      "“package ‘recipes’ was built under R version 4.0.1”\n",
      "Warning message:\n",
      "“package ‘tune’ was built under R version 4.0.2”\n",
      "Warning message:\n",
      "“package ‘workflows’ was built under R version 4.0.2”\n",
      "Warning message:\n",
      "“package ‘yardstick’ was built under R version 4.0.2”\n",
      "── \u001b[1mConflicts\u001b[22m ───────────────────────────────────────── tidymodels_conflicts() ──\n",
      "\u001b[31m✖\u001b[39m \u001b[34mscales\u001b[39m::\u001b[32mdiscard()\u001b[39m masks \u001b[34mpurrr\u001b[39m::discard()\n",
      "\u001b[31m✖\u001b[39m \u001b[34mdplyr\u001b[39m::\u001b[32mfilter()\u001b[39m   masks \u001b[34mstats\u001b[39m::filter()\n",
      "\u001b[31m✖\u001b[39m \u001b[34mrecipes\u001b[39m::\u001b[32mfixed()\u001b[39m  masks \u001b[34mstringr\u001b[39m::fixed()\n",
      "\u001b[31m✖\u001b[39m \u001b[34mdplyr\u001b[39m::\u001b[32mlag()\u001b[39m      masks \u001b[34mstats\u001b[39m::lag()\n",
      "\u001b[31m✖\u001b[39m \u001b[34myardstick\u001b[39m::\u001b[32mspec()\u001b[39m masks \u001b[34mreadr\u001b[39m::spec()\n",
      "\u001b[31m✖\u001b[39m \u001b[34mrecipes\u001b[39m::\u001b[32mstep()\u001b[39m   masks \u001b[34mstats\u001b[39m::step()\n",
      "\n",
      "Warning message in file(filename, \"r\", encoding = encoding):\n",
      "“cannot open file 'tests.R': No such file or directory”\n"
     ]
    },
    {
     "ename": "ERROR",
     "evalue": "Error in file(filename, \"r\", encoding = encoding): cannot open the connection\n",
     "output_type": "error",
     "traceback": [
      "Error in file(filename, \"r\", encoding = encoding): cannot open the connection\nTraceback:\n",
      "1. source(\"tests.R\")",
      "2. file(filename, \"r\", encoding = encoding)"
     ]
    }
   ],
   "source": [
    "library(tidyverse)\n",
    "library(repr)\n",
    "library(tidymodels)\n",
    "source('tests.R')\n",
    "source('cleanup.R')"
   ]
  },
  {
   "cell_type": "code",
   "execution_count": 4,
   "metadata": {},
   "outputs": [
    {
     "name": "stderr",
     "output_type": "stream",
     "text": [
      "Parsed with column specification:\n",
      "cols(\n",
      "  .default = col_character(),\n",
      "  `Zip Code` = \u001b[32mcol_double()\u001b[39m,\n",
      "  Latitude = \u001b[32mcol_double()\u001b[39m,\n",
      "  Longitude = \u001b[32mcol_double()\u001b[39m,\n",
      "  `Start Time` = \u001b[34mcol_time(format = \"\")\u001b[39m,\n",
      "  `End Time` = \u001b[34mcol_time(format = \"\")\u001b[39m,\n",
      "  `Student Enrollment` = \u001b[32mcol_double()\u001b[39m,\n",
      "  `Average Score (SAT Math)` = \u001b[32mcol_double()\u001b[39m,\n",
      "  `Average Score (SAT Reading)` = \u001b[32mcol_double()\u001b[39m,\n",
      "  `Average Score (SAT Writing)` = \u001b[32mcol_double()\u001b[39m\n",
      ")\n",
      "\n",
      "See spec(...) for full column specifications.\n",
      "\n",
      "Parsed with column specification:\n",
      "cols(\n",
      "  state = \u001b[31mcol_character()\u001b[39m,\n",
      "  zipcode = \u001b[32mcol_double()\u001b[39m,\n",
      "  total_pop = \u001b[32mcol_double()\u001b[39m,\n",
      "  total_income = \u001b[32mcol_double()\u001b[39m,\n",
      "  country = \u001b[31mcol_character()\u001b[39m,\n",
      "  avg_income = \u001b[32mcol_double()\u001b[39m\n",
      ")\n",
      "\n"
     ]
    },
    {
     "data": {
      "text/html": [
       "<table>\n",
       "<caption>A tibble: 5 × 22</caption>\n",
       "<thead>\n",
       "\t<tr><th scope=col>School ID</th><th scope=col>School Name</th><th scope=col>Borough</th><th scope=col>Building Code</th><th scope=col>Street Address</th><th scope=col>City</th><th scope=col>State</th><th scope=col>Zip Code</th><th scope=col>Latitude</th><th scope=col>Longitude</th><th scope=col>⋯</th><th scope=col>End Time</th><th scope=col>Student Enrollment</th><th scope=col>Percent White</th><th scope=col>Percent Black</th><th scope=col>Percent Hispanic</th><th scope=col>Percent Asian</th><th scope=col>Average Score (SAT Math)</th><th scope=col>Average Score (SAT Reading)</th><th scope=col>Average Score (SAT Writing)</th><th scope=col>Percent Tested</th></tr>\n",
       "\t<tr><th scope=col>&lt;chr&gt;</th><th scope=col>&lt;chr&gt;</th><th scope=col>&lt;chr&gt;</th><th scope=col>&lt;chr&gt;</th><th scope=col>&lt;chr&gt;</th><th scope=col>&lt;chr&gt;</th><th scope=col>&lt;chr&gt;</th><th scope=col>&lt;dbl&gt;</th><th scope=col>&lt;dbl&gt;</th><th scope=col>&lt;dbl&gt;</th><th scope=col>⋯</th><th scope=col>&lt;time&gt;</th><th scope=col>&lt;dbl&gt;</th><th scope=col>&lt;chr&gt;</th><th scope=col>&lt;chr&gt;</th><th scope=col>&lt;chr&gt;</th><th scope=col>&lt;chr&gt;</th><th scope=col>&lt;dbl&gt;</th><th scope=col>&lt;dbl&gt;</th><th scope=col>&lt;dbl&gt;</th><th scope=col>&lt;chr&gt;</th></tr>\n",
       "</thead>\n",
       "<tbody>\n",
       "\t<tr><td>02M260</td><td>Clinton School Writers and Artists                            </td><td>Manhattan</td><td>M933</td><td>425 West 33rd Street</td><td>Manhattan</td><td>NY</td><td>10001</td><td>40.75321</td><td>-73.99786</td><td>⋯</td><td>      NA</td><td>  NA</td><td>NA   </td><td>NA   </td><td>NA   </td><td>NA   </td><td> NA</td><td> NA</td><td> NA</td><td>NA   </td></tr>\n",
       "\t<tr><td>06M211</td><td>Inwood Early College for Health and Information Technologies  </td><td>Manhattan</td><td>M052</td><td>650 Academy Street  </td><td>Manhattan</td><td>NY</td><td>10002</td><td>40.86605</td><td>-73.92486</td><td>⋯</td><td>15:00:00</td><td>  87</td><td>3.4% </td><td>21.8%</td><td>67.8%</td><td>4.6% </td><td> NA</td><td> NA</td><td> NA</td><td>NA   </td></tr>\n",
       "\t<tr><td>01M539</td><td>New Explorations into Science, Technology and Math High School</td><td>Manhattan</td><td>M022</td><td>111 Columbia Street </td><td>Manhattan</td><td>NY</td><td>10002</td><td>40.71873</td><td>-73.97943</td><td>⋯</td><td>16:00:00</td><td>1735</td><td>28.6%</td><td>13.3%</td><td>18.0%</td><td>38.5%</td><td>657</td><td>601</td><td>601</td><td>91.0%</td></tr>\n",
       "\t<tr><td>02M294</td><td>Essex Street Academy                                          </td><td>Manhattan</td><td>M445</td><td>350 Grand Street    </td><td>Manhattan</td><td>NY</td><td>10002</td><td>40.71687</td><td>-73.98953</td><td>⋯</td><td>14:45:00</td><td> 358</td><td>11.7%</td><td>38.5%</td><td>41.3%</td><td>5.9% </td><td>395</td><td>411</td><td>387</td><td>78.9%</td></tr>\n",
       "\t<tr><td>02M308</td><td>Lower Manhattan Arts Academy                                  </td><td>Manhattan</td><td>M445</td><td>350 Grand Street    </td><td>Manhattan</td><td>NY</td><td>10002</td><td>40.71687</td><td>-73.98953</td><td>⋯</td><td>15:00:00</td><td> 383</td><td>3.1% </td><td>28.2%</td><td>56.9%</td><td>8.6% </td><td>418</td><td>428</td><td>415</td><td>65.1%</td></tr>\n",
       "</tbody>\n",
       "</table>\n"
      ],
      "text/latex": [
       "A tibble: 5 × 22\n",
       "\\begin{tabular}{lllllllllllllllllllll}\n",
       " School ID & School Name & Borough & Building Code & Street Address & City & State & Zip Code & Latitude & Longitude & ⋯ & End Time & Student Enrollment & Percent White & Percent Black & Percent Hispanic & Percent Asian & Average Score (SAT Math) & Average Score (SAT Reading) & Average Score (SAT Writing) & Percent Tested\\\\\n",
       " <chr> & <chr> & <chr> & <chr> & <chr> & <chr> & <chr> & <dbl> & <dbl> & <dbl> & ⋯ & <time> & <dbl> & <chr> & <chr> & <chr> & <chr> & <dbl> & <dbl> & <dbl> & <chr>\\\\\n",
       "\\hline\n",
       "\t 02M260 & Clinton School Writers and Artists                             & Manhattan & M933 & 425 West 33rd Street & Manhattan & NY & 10001 & 40.75321 & -73.99786 & ⋯ &       NA &   NA & NA    & NA    & NA    & NA    &  NA &  NA &  NA & NA   \\\\\n",
       "\t 06M211 & Inwood Early College for Health and Information Technologies   & Manhattan & M052 & 650 Academy Street   & Manhattan & NY & 10002 & 40.86605 & -73.92486 & ⋯ & 15:00:00 &   87 & 3.4\\%  & 21.8\\% & 67.8\\% & 4.6\\%  &  NA &  NA &  NA & NA   \\\\\n",
       "\t 01M539 & New Explorations into Science, Technology and Math High School & Manhattan & M022 & 111 Columbia Street  & Manhattan & NY & 10002 & 40.71873 & -73.97943 & ⋯ & 16:00:00 & 1735 & 28.6\\% & 13.3\\% & 18.0\\% & 38.5\\% & 657 & 601 & 601 & 91.0\\%\\\\\n",
       "\t 02M294 & Essex Street Academy                                           & Manhattan & M445 & 350 Grand Street     & Manhattan & NY & 10002 & 40.71687 & -73.98953 & ⋯ & 14:45:00 &  358 & 11.7\\% & 38.5\\% & 41.3\\% & 5.9\\%  & 395 & 411 & 387 & 78.9\\%\\\\\n",
       "\t 02M308 & Lower Manhattan Arts Academy                                   & Manhattan & M445 & 350 Grand Street     & Manhattan & NY & 10002 & 40.71687 & -73.98953 & ⋯ & 15:00:00 &  383 & 3.1\\%  & 28.2\\% & 56.9\\% & 8.6\\%  & 418 & 428 & 415 & 65.1\\%\\\\\n",
       "\\end{tabular}\n"
      ],
      "text/markdown": [
       "\n",
       "A tibble: 5 × 22\n",
       "\n",
       "| School ID &lt;chr&gt; | School Name &lt;chr&gt; | Borough &lt;chr&gt; | Building Code &lt;chr&gt; | Street Address &lt;chr&gt; | City &lt;chr&gt; | State &lt;chr&gt; | Zip Code &lt;dbl&gt; | Latitude &lt;dbl&gt; | Longitude &lt;dbl&gt; | ⋯ ⋯ | End Time &lt;time&gt; | Student Enrollment &lt;dbl&gt; | Percent White &lt;chr&gt; | Percent Black &lt;chr&gt; | Percent Hispanic &lt;chr&gt; | Percent Asian &lt;chr&gt; | Average Score (SAT Math) &lt;dbl&gt; | Average Score (SAT Reading) &lt;dbl&gt; | Average Score (SAT Writing) &lt;dbl&gt; | Percent Tested &lt;chr&gt; |\n",
       "|---|---|---|---|---|---|---|---|---|---|---|---|---|---|---|---|---|---|---|---|---|\n",
       "| 02M260 | Clinton School Writers and Artists                             | Manhattan | M933 | 425 West 33rd Street | Manhattan | NY | 10001 | 40.75321 | -73.99786 | ⋯ |       NA |   NA | NA    | NA    | NA    | NA    |  NA |  NA |  NA | NA    |\n",
       "| 06M211 | Inwood Early College for Health and Information Technologies   | Manhattan | M052 | 650 Academy Street   | Manhattan | NY | 10002 | 40.86605 | -73.92486 | ⋯ | 15:00:00 |   87 | 3.4%  | 21.8% | 67.8% | 4.6%  |  NA |  NA |  NA | NA    |\n",
       "| 01M539 | New Explorations into Science, Technology and Math High School | Manhattan | M022 | 111 Columbia Street  | Manhattan | NY | 10002 | 40.71873 | -73.97943 | ⋯ | 16:00:00 | 1735 | 28.6% | 13.3% | 18.0% | 38.5% | 657 | 601 | 601 | 91.0% |\n",
       "| 02M294 | Essex Street Academy                                           | Manhattan | M445 | 350 Grand Street     | Manhattan | NY | 10002 | 40.71687 | -73.98953 | ⋯ | 14:45:00 |  358 | 11.7% | 38.5% | 41.3% | 5.9%  | 395 | 411 | 387 | 78.9% |\n",
       "| 02M308 | Lower Manhattan Arts Academy                                   | Manhattan | M445 | 350 Grand Street     | Manhattan | NY | 10002 | 40.71687 | -73.98953 | ⋯ | 15:00:00 |  383 | 3.1%  | 28.2% | 56.9% | 8.6%  | 418 | 428 | 415 | 65.1% |\n",
       "\n"
      ],
      "text/plain": [
       "  School ID School Name                                                   \n",
       "1 02M260    Clinton School Writers and Artists                            \n",
       "2 06M211    Inwood Early College for Health and Information Technologies  \n",
       "3 01M539    New Explorations into Science, Technology and Math High School\n",
       "4 02M294    Essex Street Academy                                          \n",
       "5 02M308    Lower Manhattan Arts Academy                                  \n",
       "  Borough   Building Code Street Address       City      State Zip Code\n",
       "1 Manhattan M933          425 West 33rd Street Manhattan NY    10001   \n",
       "2 Manhattan M052          650 Academy Street   Manhattan NY    10002   \n",
       "3 Manhattan M022          111 Columbia Street  Manhattan NY    10002   \n",
       "4 Manhattan M445          350 Grand Street     Manhattan NY    10002   \n",
       "5 Manhattan M445          350 Grand Street     Manhattan NY    10002   \n",
       "  Latitude Longitude ⋯ End Time Student Enrollment Percent White Percent Black\n",
       "1 40.75321 -73.99786 ⋯       NA   NA               NA            NA           \n",
       "2 40.86605 -73.92486 ⋯ 15:00:00   87               3.4%          21.8%        \n",
       "3 40.71873 -73.97943 ⋯ 16:00:00 1735               28.6%         13.3%        \n",
       "4 40.71687 -73.98953 ⋯ 14:45:00  358               11.7%         38.5%        \n",
       "5 40.71687 -73.98953 ⋯ 15:00:00  383               3.1%          28.2%        \n",
       "  Percent Hispanic Percent Asian Average Score (SAT Math)\n",
       "1 NA               NA             NA                     \n",
       "2 67.8%            4.6%           NA                     \n",
       "3 18.0%            38.5%         657                     \n",
       "4 41.3%            5.9%          395                     \n",
       "5 56.9%            8.6%          418                     \n",
       "  Average Score (SAT Reading) Average Score (SAT Writing) Percent Tested\n",
       "1  NA                          NA                         NA            \n",
       "2  NA                          NA                         NA            \n",
       "3 601                         601                         91.0%         \n",
       "4 411                         387                         78.9%         \n",
       "5 428                         415                         65.1%         "
      ]
     },
     "metadata": {},
     "output_type": "display_data"
    },
    {
     "data": {
      "text/html": [
       "<table>\n",
       "<caption>A tibble: 5 × 6</caption>\n",
       "<thead>\n",
       "\t<tr><th scope=col>state</th><th scope=col>zipcode</th><th scope=col>total_pop</th><th scope=col>total_income</th><th scope=col>country</th><th scope=col>avg_income</th></tr>\n",
       "\t<tr><th scope=col>&lt;chr&gt;</th><th scope=col>&lt;dbl&gt;</th><th scope=col>&lt;dbl&gt;</th><th scope=col>&lt;dbl&gt;</th><th scope=col>&lt;chr&gt;</th><th scope=col>&lt;dbl&gt;</th></tr>\n",
       "</thead>\n",
       "<tbody>\n",
       "\t<tr><td>AK</td><td>    0</td><td>345220</td><td>25354974</td><td>USA</td><td>73445.84</td></tr>\n",
       "\t<tr><td>AK</td><td>99501</td><td>  7690</td><td>  612242</td><td>USA</td><td>79615.34</td></tr>\n",
       "\t<tr><td>AK</td><td>99502</td><td> 11860</td><td> 1000685</td><td>USA</td><td>84374.79</td></tr>\n",
       "\t<tr><td>AK</td><td>99503</td><td>  7510</td><td>  462394</td><td>USA</td><td>61570.44</td></tr>\n",
       "\t<tr><td>AK</td><td>99504</td><td> 19440</td><td> 1176109</td><td>USA</td><td>60499.43</td></tr>\n",
       "</tbody>\n",
       "</table>\n"
      ],
      "text/latex": [
       "A tibble: 5 × 6\n",
       "\\begin{tabular}{llllll}\n",
       " state & zipcode & total\\_pop & total\\_income & country & avg\\_income\\\\\n",
       " <chr> & <dbl> & <dbl> & <dbl> & <chr> & <dbl>\\\\\n",
       "\\hline\n",
       "\t AK &     0 & 345220 & 25354974 & USA & 73445.84\\\\\n",
       "\t AK & 99501 &   7690 &   612242 & USA & 79615.34\\\\\n",
       "\t AK & 99502 &  11860 &  1000685 & USA & 84374.79\\\\\n",
       "\t AK & 99503 &   7510 &   462394 & USA & 61570.44\\\\\n",
       "\t AK & 99504 &  19440 &  1176109 & USA & 60499.43\\\\\n",
       "\\end{tabular}\n"
      ],
      "text/markdown": [
       "\n",
       "A tibble: 5 × 6\n",
       "\n",
       "| state &lt;chr&gt; | zipcode &lt;dbl&gt; | total_pop &lt;dbl&gt; | total_income &lt;dbl&gt; | country &lt;chr&gt; | avg_income &lt;dbl&gt; |\n",
       "|---|---|---|---|---|---|\n",
       "| AK |     0 | 345220 | 25354974 | USA | 73445.84 |\n",
       "| AK | 99501 |   7690 |   612242 | USA | 79615.34 |\n",
       "| AK | 99502 |  11860 |  1000685 | USA | 84374.79 |\n",
       "| AK | 99503 |   7510 |   462394 | USA | 61570.44 |\n",
       "| AK | 99504 |  19440 |  1176109 | USA | 60499.43 |\n",
       "\n"
      ],
      "text/plain": [
       "  state zipcode total_pop total_income country avg_income\n",
       "1 AK        0   345220    25354974     USA     73445.84  \n",
       "2 AK    99501     7690      612242     USA     79615.34  \n",
       "3 AK    99502    11860     1000685     USA     84374.79  \n",
       "4 AK    99503     7510      462394     USA     61570.44  \n",
       "5 AK    99504    19440     1176109     USA     60499.43  "
      ]
     },
     "metadata": {},
     "output_type": "display_data"
    }
   ],
   "source": [
    "sat_scores = read_csv(\"scores.csv\")\n",
    "postcode_averages = read_csv(\"postcode_level_averages.csv\")\n",
    "head(sat_scores, 5)\n",
    "head(postcode_averages, 5)"
   ]
  },
  {
   "cell_type": "code",
   "execution_count": null,
   "metadata": {},
   "outputs": [],
   "source": []
  }
 ],
 "metadata": {
  "kernelspec": {
   "display_name": "R",
   "language": "R",
   "name": "ir"
  },
  "language_info": {
   "codemirror_mode": "r",
   "file_extension": ".r",
   "mimetype": "text/x-r-source",
   "name": "R",
   "pygments_lexer": "r",
   "version": "4.0.0"
  }
 },
 "nbformat": 4,
 "nbformat_minor": 4
}
