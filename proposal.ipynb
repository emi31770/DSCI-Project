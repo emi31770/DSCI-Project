{
 "cells": [
  {
   "cell_type": "markdown",
   "metadata": {},
   "source": [
    "# Run before"
   ]
  },
  {
   "cell_type": "code",
   "execution_count": 27,
   "metadata": {},
   "outputs": [],
   "source": [
    "library(tidyverse)\n",
    "library(repr)\n",
    "library(tidymodels)"
   ]
  },
  {
   "cell_type": "markdown",
   "metadata": {},
   "source": [
    "# Download files"
   ]
  },
  {
   "cell_type": "code",
   "execution_count": 34,
   "metadata": {},
   "outputs": [
    {
     "name": "stderr",
     "output_type": "stream",
     "text": [
      "Parsed with column specification:\n",
      "cols(\n",
      "  .default = col_character(),\n",
      "  `Zip Code` = \u001b[32mcol_double()\u001b[39m,\n",
      "  Latitude = \u001b[32mcol_double()\u001b[39m,\n",
      "  Longitude = \u001b[32mcol_double()\u001b[39m,\n",
      "  `Start Time` = \u001b[34mcol_time(format = \"\")\u001b[39m,\n",
      "  `End Time` = \u001b[34mcol_time(format = \"\")\u001b[39m,\n",
      "  `Student Enrollment` = \u001b[32mcol_double()\u001b[39m,\n",
      "  `Average Score (SAT Math)` = \u001b[32mcol_double()\u001b[39m,\n",
      "  `Average Score (SAT Reading)` = \u001b[32mcol_double()\u001b[39m,\n",
      "  `Average Score (SAT Writing)` = \u001b[32mcol_double()\u001b[39m\n",
      ")\n",
      "\n",
      "See spec(...) for full column specifications.\n",
      "\n",
      "Parsed with column specification:\n",
      "cols(\n",
      "  state = \u001b[31mcol_character()\u001b[39m,\n",
      "  zipcode = \u001b[32mcol_double()\u001b[39m,\n",
      "  total_pop = \u001b[32mcol_double()\u001b[39m,\n",
      "  total_income = \u001b[32mcol_double()\u001b[39m,\n",
      "  country = \u001b[31mcol_character()\u001b[39m,\n",
      "  avg_income = \u001b[32mcol_double()\u001b[39m\n",
      ")\n",
      "\n"
     ]
    }
   ],
   "source": [
    "sat_scores = read_csv(\"https://raw.githubusercontent.com/emi31770/proposal/main/datesets/sat_scores.csv\")\n",
    "zip_income = read_csv(\"https://raw.githubusercontent.com/emi31770/proposal/main/datesets/zipcodes_income.csv\")\n",
    "write_csv(sat_scores, \"sat.csv\")\n",
    "write_csv(zip_income, \"zip.csv\")"
   ]
  },
  {
   "cell_type": "code",
   "execution_count": 35,
   "metadata": {},
   "outputs": [
    {
     "data": {
      "text/html": [
       "<table>\n",
       "<caption>A tibble: 5 × 6</caption>\n",
       "<thead>\n",
       "\t<tr><th scope=col>state</th><th scope=col>zipcode</th><th scope=col>total_pop</th><th scope=col>total_income</th><th scope=col>country</th><th scope=col>avg_income</th></tr>\n",
       "\t<tr><th scope=col>&lt;chr&gt;</th><th scope=col>&lt;dbl&gt;</th><th scope=col>&lt;dbl&gt;</th><th scope=col>&lt;dbl&gt;</th><th scope=col>&lt;chr&gt;</th><th scope=col>&lt;dbl&gt;</th></tr>\n",
       "</thead>\n",
       "<tbody>\n",
       "\t<tr><td>AK</td><td>    0</td><td>345220</td><td>25354974</td><td>USA</td><td>73445.84</td></tr>\n",
       "\t<tr><td>AK</td><td>99501</td><td>  7690</td><td>  612242</td><td>USA</td><td>79615.34</td></tr>\n",
       "\t<tr><td>AK</td><td>99502</td><td> 11860</td><td> 1000685</td><td>USA</td><td>84374.79</td></tr>\n",
       "\t<tr><td>AK</td><td>99503</td><td>  7510</td><td>  462394</td><td>USA</td><td>61570.44</td></tr>\n",
       "\t<tr><td>AK</td><td>99504</td><td> 19440</td><td> 1176109</td><td>USA</td><td>60499.43</td></tr>\n",
       "</tbody>\n",
       "</table>\n"
      ],
      "text/latex": [
       "A tibble: 5 × 6\n",
       "\\begin{tabular}{llllll}\n",
       " state & zipcode & total\\_pop & total\\_income & country & avg\\_income\\\\\n",
       " <chr> & <dbl> & <dbl> & <dbl> & <chr> & <dbl>\\\\\n",
       "\\hline\n",
       "\t AK &     0 & 345220 & 25354974 & USA & 73445.84\\\\\n",
       "\t AK & 99501 &   7690 &   612242 & USA & 79615.34\\\\\n",
       "\t AK & 99502 &  11860 &  1000685 & USA & 84374.79\\\\\n",
       "\t AK & 99503 &   7510 &   462394 & USA & 61570.44\\\\\n",
       "\t AK & 99504 &  19440 &  1176109 & USA & 60499.43\\\\\n",
       "\\end{tabular}\n"
      ],
      "text/markdown": [
       "\n",
       "A tibble: 5 × 6\n",
       "\n",
       "| state &lt;chr&gt; | zipcode &lt;dbl&gt; | total_pop &lt;dbl&gt; | total_income &lt;dbl&gt; | country &lt;chr&gt; | avg_income &lt;dbl&gt; |\n",
       "|---|---|---|---|---|---|\n",
       "| AK |     0 | 345220 | 25354974 | USA | 73445.84 |\n",
       "| AK | 99501 |   7690 |   612242 | USA | 79615.34 |\n",
       "| AK | 99502 |  11860 |  1000685 | USA | 84374.79 |\n",
       "| AK | 99503 |   7510 |   462394 | USA | 61570.44 |\n",
       "| AK | 99504 |  19440 |  1176109 | USA | 60499.43 |\n",
       "\n"
      ],
      "text/plain": [
       "  state zipcode total_pop total_income country avg_income\n",
       "1 AK        0   345220    25354974     USA     73445.84  \n",
       "2 AK    99501     7690      612242     USA     79615.34  \n",
       "3 AK    99502    11860     1000685     USA     84374.79  \n",
       "4 AK    99503     7510      462394     USA     61570.44  \n",
       "5 AK    99504    19440     1176109     USA     60499.43  "
      ]
     },
     "metadata": {},
     "output_type": "display_data"
    }
   ],
   "source": [
    "head(zip_income, 5)"
   ]
  },
  {
   "cell_type": "code",
   "execution_count": null,
   "metadata": {},
   "outputs": [],
   "source": []
  }
 ],
 "metadata": {
  "kernelspec": {
   "display_name": "R",
   "language": "R",
   "name": "ir"
  },
  "language_info": {
   "codemirror_mode": "r",
   "file_extension": ".r",
   "mimetype": "text/x-r-source",
   "name": "R",
   "pygments_lexer": "r",
   "version": "4.0.0"
  }
 },
 "nbformat": 4,
 "nbformat_minor": 4
}
