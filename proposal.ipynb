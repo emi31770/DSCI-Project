{
 "cells": [
  {
   "cell_type": "markdown",
   "metadata": {},
   "source": [
    "# Analyzing the effect of income and area of residence on quality of education\n",
    "\n",
    "### Introduction\n",
    "The Scholastic Aptitude Test (SAT) is a standardized test taken by most high school students across the United States (and some international students), often used for post-secondary admissions. The question we will try to answer with the project is: What SAT score is a NYC student likely to get as a result of their income and their school’s location? A dataset listing the average SAT scores per school in New York will be used; this dataset also lists the zip codes of each school. The average SAT scores of all schools in each zip code will then be compared with data from an income per zip code database.\n",
    "\n",
    "### Methods\n",
    "We will use linear regression to predict SAT scores given household income. From the average SAT scores dataset, we will be using Average SAT Scores (math, reading, writing), and student enrollment. From the average income data, we will be using Zip.Code, total_pop, total_income, and avg_income. We will visualize the results with a scatterplot (average SAT scores per zip code vs. average income per zip code)\n",
    "\n",
    "### Expectations\n",
    "We expect higher income ZIP codes will have higher average SAT scores, assuming that those who live in a higher income area will receive better education. If data suggests so, actions could be taken to minimize the effect of someone's place of residence on their education. An example of a future question this could lead to is: Are there other environmental factors affecting average SAT scores for specific areas?\n"
   ]
  },
  {
   "cell_type": "markdown",
   "metadata": {},
   "source": [
    "## Preliminary exploratory data analysis"
   ]
  },
  {
   "cell_type": "markdown",
   "metadata": {},
   "source": [
    "### Run before"
   ]
  },
  {
   "cell_type": "code",
   "execution_count": 1,
   "metadata": {},
   "outputs": [
    {
     "name": "stderr",
     "output_type": "stream",
     "text": [
      "── \u001b[1mAttaching packages\u001b[22m ─────────────────────────────────────── tidyverse 1.3.0 ──\n",
      "\n",
      "\u001b[32m✔\u001b[39m \u001b[34mggplot2\u001b[39m 3.3.2     \u001b[32m✔\u001b[39m \u001b[34mpurrr  \u001b[39m 0.3.4\n",
      "\u001b[32m✔\u001b[39m \u001b[34mtibble \u001b[39m 3.0.3     \u001b[32m✔\u001b[39m \u001b[34mdplyr  \u001b[39m 1.0.2\n",
      "\u001b[32m✔\u001b[39m \u001b[34mtidyr  \u001b[39m 1.1.2     \u001b[32m✔\u001b[39m \u001b[34mstringr\u001b[39m 1.4.0\n",
      "\u001b[32m✔\u001b[39m \u001b[34mreadr  \u001b[39m 1.3.1     \u001b[32m✔\u001b[39m \u001b[34mforcats\u001b[39m 0.5.0\n",
      "\n",
      "Warning message:\n",
      "“package ‘ggplot2’ was built under R version 4.0.1”\n",
      "Warning message:\n",
      "“package ‘tibble’ was built under R version 4.0.2”\n",
      "Warning message:\n",
      "“package ‘tidyr’ was built under R version 4.0.2”\n",
      "Warning message:\n",
      "“package ‘dplyr’ was built under R version 4.0.2”\n",
      "── \u001b[1mConflicts\u001b[22m ────────────────────────────────────────── tidyverse_conflicts() ──\n",
      "\u001b[31m✖\u001b[39m \u001b[34mdplyr\u001b[39m::\u001b[32mfilter()\u001b[39m masks \u001b[34mstats\u001b[39m::filter()\n",
      "\u001b[31m✖\u001b[39m \u001b[34mdplyr\u001b[39m::\u001b[32mlag()\u001b[39m    masks \u001b[34mstats\u001b[39m::lag()\n",
      "\n",
      "Warning message:\n",
      "“package ‘tidymodels’ was built under R version 4.0.2”\n",
      "── \u001b[1mAttaching packages\u001b[22m ────────────────────────────────────── tidymodels 0.1.1 ──\n",
      "\n",
      "\u001b[32m✔\u001b[39m \u001b[34mbroom    \u001b[39m 0.7.0      \u001b[32m✔\u001b[39m \u001b[34mrecipes  \u001b[39m 0.1.13\n",
      "\u001b[32m✔\u001b[39m \u001b[34mdials    \u001b[39m 0.0.9      \u001b[32m✔\u001b[39m \u001b[34mrsample  \u001b[39m 0.0.7 \n",
      "\u001b[32m✔\u001b[39m \u001b[34minfer    \u001b[39m 0.5.4      \u001b[32m✔\u001b[39m \u001b[34mtune     \u001b[39m 0.1.1 \n",
      "\u001b[32m✔\u001b[39m \u001b[34mmodeldata\u001b[39m 0.0.2      \u001b[32m✔\u001b[39m \u001b[34mworkflows\u001b[39m 0.2.0 \n",
      "\u001b[32m✔\u001b[39m \u001b[34mparsnip  \u001b[39m 0.1.3      \u001b[32m✔\u001b[39m \u001b[34myardstick\u001b[39m 0.0.7 \n",
      "\n",
      "Warning message:\n",
      "“package ‘broom’ was built under R version 4.0.2”\n",
      "Warning message:\n",
      "“package ‘dials’ was built under R version 4.0.2”\n",
      "Warning message:\n",
      "“package ‘infer’ was built under R version 4.0.3”\n",
      "Warning message:\n",
      "“package ‘modeldata’ was built under R version 4.0.1”\n",
      "Warning message:\n",
      "“package ‘parsnip’ was built under R version 4.0.2”\n",
      "Warning message:\n",
      "“package ‘recipes’ was built under R version 4.0.1”\n",
      "Warning message:\n",
      "“package ‘tune’ was built under R version 4.0.2”\n",
      "Warning message:\n",
      "“package ‘workflows’ was built under R version 4.0.2”\n",
      "Warning message:\n",
      "“package ‘yardstick’ was built under R version 4.0.2”\n",
      "── \u001b[1mConflicts\u001b[22m ───────────────────────────────────────── tidymodels_conflicts() ──\n",
      "\u001b[31m✖\u001b[39m \u001b[34mscales\u001b[39m::\u001b[32mdiscard()\u001b[39m masks \u001b[34mpurrr\u001b[39m::discard()\n",
      "\u001b[31m✖\u001b[39m \u001b[34mdplyr\u001b[39m::\u001b[32mfilter()\u001b[39m   masks \u001b[34mstats\u001b[39m::filter()\n",
      "\u001b[31m✖\u001b[39m \u001b[34mrecipes\u001b[39m::\u001b[32mfixed()\u001b[39m  masks \u001b[34mstringr\u001b[39m::fixed()\n",
      "\u001b[31m✖\u001b[39m \u001b[34mdplyr\u001b[39m::\u001b[32mlag()\u001b[39m      masks \u001b[34mstats\u001b[39m::lag()\n",
      "\u001b[31m✖\u001b[39m \u001b[34myardstick\u001b[39m::\u001b[32mspec()\u001b[39m masks \u001b[34mreadr\u001b[39m::spec()\n",
      "\u001b[31m✖\u001b[39m \u001b[34mrecipes\u001b[39m::\u001b[32mstep()\u001b[39m   masks \u001b[34mstats\u001b[39m::step()\n",
      "\n"
     ]
    }
   ],
   "source": [
    "library(tidyverse)\n",
    "library(repr)\n",
    "library(tidymodels)"
   ]
  },
  {
   "cell_type": "markdown",
   "metadata": {},
   "source": [
    "### Download files"
   ]
  },
  {
   "cell_type": "code",
   "execution_count": 2,
   "metadata": {},
   "outputs": [
    {
     "name": "stderr",
     "output_type": "stream",
     "text": [
      "Parsed with column specification:\n",
      "cols(\n",
      "  .default = col_character(),\n",
      "  `Zip Code` = \u001b[32mcol_double()\u001b[39m,\n",
      "  Latitude = \u001b[32mcol_double()\u001b[39m,\n",
      "  Longitude = \u001b[32mcol_double()\u001b[39m,\n",
      "  `Start Time` = \u001b[34mcol_time(format = \"\")\u001b[39m,\n",
      "  `End Time` = \u001b[34mcol_time(format = \"\")\u001b[39m,\n",
      "  `Student Enrollment` = \u001b[32mcol_double()\u001b[39m,\n",
      "  `Average Score (SAT Math)` = \u001b[32mcol_double()\u001b[39m,\n",
      "  `Average Score (SAT Reading)` = \u001b[32mcol_double()\u001b[39m,\n",
      "  `Average Score (SAT Writing)` = \u001b[32mcol_double()\u001b[39m\n",
      ")\n",
      "\n",
      "See spec(...) for full column specifications.\n",
      "\n",
      "Parsed with column specification:\n",
      "cols(\n",
      "  state = \u001b[31mcol_character()\u001b[39m,\n",
      "  zipcode = \u001b[32mcol_double()\u001b[39m,\n",
      "  total_pop = \u001b[32mcol_double()\u001b[39m,\n",
      "  total_income = \u001b[32mcol_double()\u001b[39m,\n",
      "  country = \u001b[31mcol_character()\u001b[39m,\n",
      "  avg_income = \u001b[32mcol_double()\u001b[39m\n",
      ")\n",
      "\n"
     ]
    }
   ],
   "source": [
    "sat_scores <- read_csv(\"https://raw.githubusercontent.com/emi31770/proposal/main/datesets/sat_scores.csv\")\n",
    "zip_income <- read_csv(\"https://raw.githubusercontent.com/emi31770/proposal/main/datesets/zipcodes_income.csv\")\n",
    "colnames(sat_scores) <- make.names(colnames(sat_scores))\n",
    "colnames(zip_income) = make.names(colnames(zip_income))\n",
    "write_csv(sat_scores, \"sat.csv\")\n",
    "write_csv(zip_income, \"zip.csv\")"
   ]
  },
  {
   "cell_type": "code",
   "execution_count": 3,
   "metadata": {},
   "outputs": [
    {
     "name": "stderr",
     "output_type": "stream",
     "text": [
      "Parsed with column specification:\n",
      "cols(\n",
      "  state = \u001b[31mcol_character()\u001b[39m,\n",
      "  zipcode = \u001b[32mcol_double()\u001b[39m,\n",
      "  total_pop = \u001b[32mcol_double()\u001b[39m,\n",
      "  total_income = \u001b[32mcol_double()\u001b[39m,\n",
      "  country = \u001b[31mcol_character()\u001b[39m,\n",
      "  avg_income = \u001b[32mcol_double()\u001b[39m\n",
      ")\n",
      "\n",
      "Parsed with column specification:\n",
      "cols(\n",
      "  .default = col_character(),\n",
      "  Zip.Code = \u001b[32mcol_double()\u001b[39m,\n",
      "  Latitude = \u001b[32mcol_double()\u001b[39m,\n",
      "  Longitude = \u001b[32mcol_double()\u001b[39m,\n",
      "  Start.Time = \u001b[34mcol_time(format = \"\")\u001b[39m,\n",
      "  End.Time = \u001b[34mcol_time(format = \"\")\u001b[39m,\n",
      "  Student.Enrollment = \u001b[32mcol_double()\u001b[39m,\n",
      "  Average.Score..SAT.Math. = \u001b[32mcol_double()\u001b[39m,\n",
      "  Average.Score..SAT.Reading. = \u001b[32mcol_double()\u001b[39m,\n",
      "  Average.Score..SAT.Writing. = \u001b[32mcol_double()\u001b[39m\n",
      ")\n",
      "\n",
      "See spec(...) for full column specifications.\n",
      "\n"
     ]
    },
    {
     "data": {
      "text/html": [
       "<table>\n",
       "<caption>A data.frame: 5 × 9</caption>\n",
       "<thead>\n",
       "\t<tr><th></th><th scope=col>Zip.Code</th><th scope=col>Student.Enrollment</th><th scope=col>total_score_avg</th><th scope=col>Average.Score..SAT.Math.</th><th scope=col>Average.Score..SAT.Reading.</th><th scope=col>Average.Score..SAT.Writing.</th><th scope=col>total_pop</th><th scope=col>total_income</th><th scope=col>avg_income</th></tr>\n",
       "\t<tr><th></th><th scope=col>&lt;dbl&gt;</th><th scope=col>&lt;dbl&gt;</th><th scope=col>&lt;dbl&gt;</th><th scope=col>&lt;dbl&gt;</th><th scope=col>&lt;dbl&gt;</th><th scope=col>&lt;dbl&gt;</th><th scope=col>&lt;dbl&gt;</th><th scope=col>&lt;dbl&gt;</th><th scope=col>&lt;dbl&gt;</th></tr>\n",
       "</thead>\n",
       "<tbody>\n",
       "\t<tr><th scope=row>1</th><td>10002</td><td>504.7273</td><td>1358.909</td><td>472.9091</td><td>448.5455</td><td>437.4545</td><td>42400</td><td>2718913</td><td> 64125.31</td></tr>\n",
       "\t<tr><th scope=row>2</th><td>10003</td><td>693.2000</td><td>1323.600</td><td>449.6000</td><td>443.4000</td><td>430.6000</td><td>29270</td><td>8191737</td><td>279868.02</td></tr>\n",
       "\t<tr><th scope=row>3</th><td>10004</td><td>519.2500</td><td>1380.250</td><td>463.0000</td><td>462.0000</td><td>455.2500</td><td> 2470</td><td> 944925</td><td>382560.73</td></tr>\n",
       "\t<tr><th scope=row>4</th><td>10006</td><td>747.5000</td><td>1268.000</td><td>429.5000</td><td>419.0000</td><td>419.5000</td><td> 2510</td><td> 577145</td><td>229938.25</td></tr>\n",
       "\t<tr><th scope=row>5</th><td>10009</td><td>666.0000</td><td>1327.000</td><td>454.0000</td><td>428.0000</td><td>445.0000</td><td>33200</td><td>2948597</td><td> 88813.16</td></tr>\n",
       "</tbody>\n",
       "</table>\n"
      ],
      "text/latex": [
       "A data.frame: 5 × 9\n",
       "\\begin{tabular}{r|lllllllll}\n",
       "  & Zip.Code & Student.Enrollment & total\\_score\\_avg & Average.Score..SAT.Math. & Average.Score..SAT.Reading. & Average.Score..SAT.Writing. & total\\_pop & total\\_income & avg\\_income\\\\\n",
       "  & <dbl> & <dbl> & <dbl> & <dbl> & <dbl> & <dbl> & <dbl> & <dbl> & <dbl>\\\\\n",
       "\\hline\n",
       "\t1 & 10002 & 504.7273 & 1358.909 & 472.9091 & 448.5455 & 437.4545 & 42400 & 2718913 &  64125.31\\\\\n",
       "\t2 & 10003 & 693.2000 & 1323.600 & 449.6000 & 443.4000 & 430.6000 & 29270 & 8191737 & 279868.02\\\\\n",
       "\t3 & 10004 & 519.2500 & 1380.250 & 463.0000 & 462.0000 & 455.2500 &  2470 &  944925 & 382560.73\\\\\n",
       "\t4 & 10006 & 747.5000 & 1268.000 & 429.5000 & 419.0000 & 419.5000 &  2510 &  577145 & 229938.25\\\\\n",
       "\t5 & 10009 & 666.0000 & 1327.000 & 454.0000 & 428.0000 & 445.0000 & 33200 & 2948597 &  88813.16\\\\\n",
       "\\end{tabular}\n"
      ],
      "text/markdown": [
       "\n",
       "A data.frame: 5 × 9\n",
       "\n",
       "| <!--/--> | Zip.Code &lt;dbl&gt; | Student.Enrollment &lt;dbl&gt; | total_score_avg &lt;dbl&gt; | Average.Score..SAT.Math. &lt;dbl&gt; | Average.Score..SAT.Reading. &lt;dbl&gt; | Average.Score..SAT.Writing. &lt;dbl&gt; | total_pop &lt;dbl&gt; | total_income &lt;dbl&gt; | avg_income &lt;dbl&gt; |\n",
       "|---|---|---|---|---|---|---|---|---|---|\n",
       "| 1 | 10002 | 504.7273 | 1358.909 | 472.9091 | 448.5455 | 437.4545 | 42400 | 2718913 |  64125.31 |\n",
       "| 2 | 10003 | 693.2000 | 1323.600 | 449.6000 | 443.4000 | 430.6000 | 29270 | 8191737 | 279868.02 |\n",
       "| 3 | 10004 | 519.2500 | 1380.250 | 463.0000 | 462.0000 | 455.2500 |  2470 |  944925 | 382560.73 |\n",
       "| 4 | 10006 | 747.5000 | 1268.000 | 429.5000 | 419.0000 | 419.5000 |  2510 |  577145 | 229938.25 |\n",
       "| 5 | 10009 | 666.0000 | 1327.000 | 454.0000 | 428.0000 | 445.0000 | 33200 | 2948597 |  88813.16 |\n",
       "\n"
      ],
      "text/plain": [
       "  Zip.Code Student.Enrollment total_score_avg Average.Score..SAT.Math.\n",
       "1 10002    504.7273           1358.909        472.9091                \n",
       "2 10003    693.2000           1323.600        449.6000                \n",
       "3 10004    519.2500           1380.250        463.0000                \n",
       "4 10006    747.5000           1268.000        429.5000                \n",
       "5 10009    666.0000           1327.000        454.0000                \n",
       "  Average.Score..SAT.Reading. Average.Score..SAT.Writing. total_pop\n",
       "1 448.5455                    437.4545                    42400    \n",
       "2 443.4000                    430.6000                    29270    \n",
       "3 462.0000                    455.2500                     2470    \n",
       "4 419.0000                    419.5000                     2510    \n",
       "5 428.0000                    445.0000                    33200    \n",
       "  total_income avg_income\n",
       "1 2718913       64125.31 \n",
       "2 8191737      279868.02 \n",
       "3  944925      382560.73 \n",
       "4  577145      229938.25 \n",
       "5 2948597       88813.16 "
      ]
     },
     "metadata": {},
     "output_type": "display_data"
    }
   ],
   "source": [
    "zip_income <- read_csv(\"zip.csv\")\n",
    "sat_scores <- read_csv(\"sat.csv\")\n",
    "\n",
    "zip_income <- zip_income %>% \n",
    "                filter(state == \"NY\", country == \"USA\") %>% \n",
    "                mutate(Zip.Code = zipcode) %>% \n",
    "                select(Zip.Code, total_pop, total_income, avg_income)\n",
    "\n",
    "sat_scores <- sat_scores %>% \n",
    "                mutate(total_score_avg = Average.Score..SAT.Math. + Average.Score..SAT.Reading. + Average.Score..SAT.Writing.) %>%\n",
    "                select(Zip.Code, Student.Enrollment, total_score_avg, Average.Score..SAT.Math., Average.Score..SAT.Reading., Average.Score..SAT.Writing.) %>%\n",
    "                na.omit() %>%\n",
    "                group_by(Zip.Code) %>%\n",
    "                summarize_all(\"mean\")\n",
    "\n",
    "\n",
    "joined_tables <- merge(x = sat_scores,y = zip_income, by = \"Zip.Code\")\n",
    "\n",
    "\n",
    "head(joined_tables, 5)"
   ]
  },
  {
   "cell_type": "code",
   "execution_count": 5,
   "metadata": {},
   "outputs": [],
   "source": [
    "set.seed(1234)\n",
    "\n",
    "sat_split <- initial_split(joined_tables, prop = 0.75, strata = avg_income)\n",
    "sat_training <- training(sat_split)\n",
    "sat_testing <- testing(sat_split)"
   ]
  },
  {
   "cell_type": "code",
   "execution_count": 6,
   "metadata": {},
   "outputs": [
    {
     "data": {
      "image/png": "[encoded data removed]",
      "text/plain": [
       "plot without title"
      ]
     },
     "metadata": {
      "image/png": {
       "height": 600,
       "width": 600
      }
     },
     "output_type": "display_data"
    }
   ],
   "source": [
    "options(repr.plot.width = 10, repr.plot.height = 10)\n",
    "\n",
    "scores_income <- ggplot(sat_training, aes(x = avg_income, y = total_score_avg)) +\n",
    "                    geom_point() +\n",
    "                    xlab(\"Average Income (USD)\") +\n",
    "                    scale_x_log10() +\n",
    "                    ylab(\"Average SAT Score\") +\n",
    "                    theme(text = element_text(size = 20)) +\n",
    "                    ggtitle(\"Average SAT Score vs. Average Income (USD)\") +\n",
    "                    theme(plot.title = element_text(size = 22)) +\n",
    "                    theme(plot.title = element_text(face = \"bold\")) +\n",
    "                    theme(plot.title = element_text(hjust = 0.5)) \n",
    "\n",
    "scores_income"
   ]
  },
  {
   "cell_type": "code",
   "execution_count": null,
   "metadata": {},
   "outputs": [],
   "source": []
  }
 ],
 "metadata": {
  "kernelspec": {
   "display_name": "R",
   "language": "R",
   "name": "ir"
  },
  "language_info": {
   "codemirror_mode": "r",
   "file_extension": ".r",
   "mimetype": "text/x-r-source",
   "name": "R",
   "pygments_lexer": "r",
   "version": "4.0.0"
  }
 },
 "nbformat": 4,
 "nbformat_minor": 4
}
